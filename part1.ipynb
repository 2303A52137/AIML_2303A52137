{
  "nbformat": 4,
  "nbformat_minor": 0,
  "metadata": {
    "colab": {
      "provenance": [],
      "authorship_tag": "ABX9TyOhoy3kZ0ZEhrsMte4r8NxL",
      "include_colab_link": true
    },
    "kernelspec": {
      "name": "python3",
      "display_name": "Python 3"
    },
    "language_info": {
      "name": "python"
    }
  },
  "cells": [
    {
      "cell_type": "markdown",
      "metadata": {
        "id": "view-in-github",
        "colab_type": "text"
      },
      "source": [
        "<a href=\"https://colab.research.google.com/github/2303A52137/AIML_2303A52137/blob/main/part1.ipynb\" target=\"_parent\"><img src=\"https://colab.research.google.com/assets/colab-badge.svg\" alt=\"Open In Colab\"/></a>"
      ]
    },
    {
      "cell_type": "code",
      "execution_count": null,
      "metadata": {
        "id": "jeXSRKxudT41"
      },
      "outputs": [],
      "source": []
    },
    {
      "cell_type": "markdown",
      "source": [
        "# LIST_1"
      ],
      "metadata": {
        "id": "HlM1713sCR55"
      }
    },
    {
      "cell_type": "code",
      "source": [],
      "metadata": {
        "id": "iAE2wyFrDmE3"
      },
      "execution_count": null,
      "outputs": []
    },
    {
      "cell_type": "code",
      "source": [
        "import numpy as np\n",
        "list1=[1,2,3,4]\n",
        "array_1=np.array(list1)\n",
        "array_1\n"
      ],
      "metadata": {
        "colab": {
          "base_uri": "https://localhost:8080/"
        },
        "id": "2SQ4TD-DC6wU",
        "outputId": "15392df2-3855-4aa8-e57a-6f57395f74e9"
      },
      "execution_count": 8,
      "outputs": [
        {
          "output_type": "execute_result",
          "data": {
            "text/plain": [
              "array([1, 2, 3, 4])"
            ]
          },
          "metadata": {},
          "execution_count": 8
        }
      ]
    },
    {
      "cell_type": "code",
      "source": [],
      "metadata": {
        "id": "Uh-Hh-9SLBbd"
      },
      "execution_count": null,
      "outputs": []
    },
    {
      "cell_type": "markdown",
      "source": [],
      "metadata": {
        "id": "5mLwxYgJfpvj"
      }
    },
    {
      "cell_type": "markdown",
      "source": [
        "LIST_2"
      ],
      "metadata": {
        "id": "K2Gz-MUlD4wR"
      }
    },
    {
      "cell_type": "markdown",
      "source": [],
      "metadata": {
        "id": "GzhJVhFSEXug"
      }
    },
    {
      "cell_type": "code",
      "source": [],
      "metadata": {
        "id": "agw2Ln8sFii-"
      },
      "execution_count": null,
      "outputs": []
    },
    {
      "cell_type": "markdown",
      "source": [],
      "metadata": {
        "id": "WACszmb2EzfZ"
      }
    },
    {
      "cell_type": "code",
      "source": [
        "import numpy as np\n",
        "list2=[3,5,7,8]\n",
        "array2=np.array(list2)\n",
        "array2"
      ],
      "metadata": {
        "colab": {
          "base_uri": "https://localhost:8080/"
        },
        "id": "G83utdEIEz3c",
        "outputId": "aad8fd04-42dc-4c3a-bd1f-12e95a234350"
      },
      "execution_count": 3,
      "outputs": [
        {
          "output_type": "execute_result",
          "data": {
            "text/plain": [
              "array([3, 5, 7, 8])"
            ]
          },
          "metadata": {},
          "execution_count": 3
        }
      ]
    },
    {
      "cell_type": "markdown",
      "source": [],
      "metadata": {
        "id": "EWsprfKDE-_v"
      }
    },
    {
      "cell_type": "markdown",
      "source": [
        "TYPE_ARRAY"
      ],
      "metadata": {
        "id": "6Pe_qfo2FUrb"
      }
    },
    {
      "cell_type": "markdown",
      "source": [
        "TYPE_LIST"
      ],
      "metadata": {
        "id": "EdQsPW-qIiOt"
      }
    },
    {
      "cell_type": "code",
      "source": [
        "type(list1)"
      ],
      "metadata": {
        "colab": {
          "base_uri": "https://localhost:8080/"
        },
        "id": "NN4rz_hGIpt9",
        "outputId": "e655a2e2-f5bb-40db-f709-f025cebd2cf6"
      },
      "execution_count": 11,
      "outputs": [
        {
          "output_type": "execute_result",
          "data": {
            "text/plain": [
              "list"
            ]
          },
          "metadata": {},
          "execution_count": 11
        }
      ]
    },
    {
      "cell_type": "code",
      "source": [
        "type(array_1)"
      ],
      "metadata": {
        "id": "TJMxdU1-fqUi",
        "colab": {
          "base_uri": "https://localhost:8080/"
        },
        "outputId": "aea734f3-bf24-4c7c-cfdb-cff1f730abb1"
      },
      "execution_count": 10,
      "outputs": [
        {
          "output_type": "execute_result",
          "data": {
            "text/plain": [
              "numpy.ndarray"
            ]
          },
          "metadata": {},
          "execution_count": 10
        }
      ]
    },
    {
      "cell_type": "markdown",
      "source": [
        "MATHEMATICAL_OPERATIONS\n"
      ],
      "metadata": {
        "id": "-fvP4TYUL2xb"
      }
    },
    {
      "cell_type": "code",
      "source": [
        "print(\"multiplication of two arrays:{array_1}and{array2}\",array_1*array2)\n",
        "print(\"division of two arrays:{array_1}and{array2}\",array_1/array2)\n",
        "print(\"poweroff two arrays:{array_1}and{array2}\",array_1**array2)\n",
        "\n"
      ],
      "metadata": {
        "colab": {
          "base_uri": "https://localhost:8080/"
        },
        "id": "uOQJCSMcMHsu",
        "outputId": "0832a064-8a78-486f-c598-dc6dd5573268"
      },
      "execution_count": 17,
      "outputs": [
        {
          "output_type": "stream",
          "name": "stdout",
          "text": [
            "multiplication of two arrays:{array_1}and{array2} [ 3 10 21 32]\n",
            "division of two arrays:{array_1}and{array2} [0.33333333 0.4        0.42857143 0.5       ]\n",
            "multiplication of two arrays:{array_1}and{array2} [    1    32  2187 65536]\n"
          ]
        }
      ]
    },
    {
      "cell_type": "markdown",
      "source": [],
      "metadata": {
        "id": "9GFCBSI3OgVM"
      }
    },
    {
      "cell_type": "markdown",
      "source": [
        "ADDITION OF TWO ARRAYS"
      ],
      "metadata": {
        "id": "ddud7C3UOmYo"
      }
    },
    {
      "cell_type": "code",
      "source": [
        "result=np.add(array_1,array2)\n",
        "result"
      ],
      "metadata": {
        "colab": {
          "base_uri": "https://localhost:8080/"
        },
        "id": "FkI8iu9_OrLi",
        "outputId": "7107a6ac-5996-464d-ccce-08b18cb4e5d6"
      },
      "execution_count": 27,
      "outputs": [
        {
          "output_type": "execute_result",
          "data": {
            "text/plain": [
              "array([ 4,  7, 10, 12])"
            ]
          },
          "metadata": {},
          "execution_count": 27
        }
      ]
    },
    {
      "cell_type": "markdown",
      "source": [
        "np.sin()"
      ],
      "metadata": {
        "id": "Hf9tGPlAPGdw"
      }
    },
    {
      "cell_type": "code",
      "source": [
        "import numpy as np\n",
        "np.sin(2)"
      ],
      "metadata": {
        "colab": {
          "base_uri": "https://localhost:8080/"
        },
        "id": "9hI0T8CkPRxR",
        "outputId": "13bbded6-1806-4d0e-db6d-ba35c4674ed7"
      },
      "execution_count": 20,
      "outputs": [
        {
          "output_type": "execute_result",
          "data": {
            "text/plain": [
              "0.4121184852417566"
            ]
          },
          "metadata": {},
          "execution_count": 20
        }
      ]
    },
    {
      "cell_type": "markdown",
      "source": [
        "np.log()\n"
      ],
      "metadata": {
        "id": "BMLpWFnUPmc6"
      }
    },
    {
      "cell_type": "code",
      "source": [
        "np.log(3)"
      ],
      "metadata": {
        "colab": {
          "base_uri": "https://localhost:8080/"
        },
        "id": "l0Ej9VWNPy5f",
        "outputId": "16615003-2a6a-48f0-9a6b-184b8f8a71ff"
      },
      "execution_count": 21,
      "outputs": [
        {
          "output_type": "execute_result",
          "data": {
            "text/plain": [
              "1.0986122886681098"
            ]
          },
          "metadata": {},
          "execution_count": 21
        }
      ]
    },
    {
      "cell_type": "markdown",
      "source": [
        "np.log(2)"
      ],
      "metadata": {
        "id": "45J6tXcgP3ik"
      }
    },
    {
      "cell_type": "code",
      "source": [
        "np.log2(1)"
      ],
      "metadata": {
        "colab": {
          "base_uri": "https://localhost:8080/"
        },
        "id": "toEagvlWP-y4",
        "outputId": "2a37a9b3-625e-41e0-d231-a839b184663a"
      },
      "execution_count": 24,
      "outputs": [
        {
          "output_type": "execute_result",
          "data": {
            "text/plain": [
              "0.0"
            ]
          },
          "metadata": {},
          "execution_count": 24
        }
      ]
    },
    {
      "cell_type": "markdown",
      "source": [
        "np.exp()"
      ],
      "metadata": {
        "id": "s6_5mTVWQQfG"
      }
    },
    {
      "cell_type": "code",
      "source": [
        "np.exp(2)"
      ],
      "metadata": {
        "colab": {
          "base_uri": "https://localhost:8080/"
        },
        "id": "SUXQxU64QZh7",
        "outputId": "299d4700-3cd4-4467-8a70-05ac2da1407a"
      },
      "execution_count": 25,
      "outputs": [
        {
          "output_type": "execute_result",
          "data": {
            "text/plain": [
              "7.38905609893065"
            ]
          },
          "metadata": {},
          "execution_count": 25
        }
      ]
    }
  ]
}